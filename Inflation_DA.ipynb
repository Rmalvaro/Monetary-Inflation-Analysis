{
 "cells": [
  {
   "cell_type": "markdown",
   "id": "4927aae8",
   "metadata": {},
   "source": [
    "# Monetary Inflation Data Analysis using FRED\n",
    "\n",
    "## An analysis on the impact of monetary inflation in the United States.\n",
    "\n",
    "This project aims to utilize the Federal Reserve Economic Data (FRED) to answer the following questions:  \n",
    "\n",
    "    1. Which states were the most impacted by monetary inflation?  \n",
    "    2. Was each economic sector equally effected by inflation? Or were some sectors more effected than others?  \n",
    "    3. Which income brackets were most effected by inflation?\n",
    "    \n",
    "To accomplish this we will need to utilize the following skills:\n",
    "\n",
    "    -Data scraping\n",
    "    -Data cleaning\n",
    "    -API utilization\n",
    "    -Data exploration\n",
    "    -Data analysis"
   ]
  },
  {
   "cell_type": "markdown",
   "id": "0e852474",
   "metadata": {},
   "source": [
    "## 1. Importing libraries and establishing settings"
   ]
  },
  {
   "cell_type": "code",
   "execution_count": 5,
   "id": "efdfced6",
   "metadata": {},
   "outputs": [],
   "source": [
    "# Importing the libraries we will be using for this project\n",
    "import pandas as pd\n",
    "import numpy as np\n",
    "import matplotlib.pyplot as plt\n",
    "import plotly.express as px\n",
    "from fredapi import Fred\n",
    "import config"
   ]
  },
  {
   "cell_type": "code",
   "execution_count": 3,
   "id": "0c6b0814",
   "metadata": {},
   "outputs": [],
   "source": [
    "# Setting the styles and settings for our data\n",
    "plt.style.use('fivethirtyeight')\n",
    "pd.options.display.max_rows = 500\n",
    "pd.options.display.max_columns = 500\n",
    "color_pal = plt.rcParams['axes.prop_cycle'].by_key()['color']"
   ]
  },
  {
   "cell_type": "markdown",
   "id": "359466ba",
   "metadata": {},
   "source": [
    "## 2. Creating a FRED object"
   ]
  },
  {
   "cell_type": "code",
   "execution_count": 7,
   "id": "f45a6bb5",
   "metadata": {},
   "outputs": [],
   "source": [
    "api_key = config.api_key # Your API key goes here"
   ]
  },
  {
   "cell_type": "code",
   "execution_count": null,
   "id": "c2bcce84",
   "metadata": {},
   "outputs": [],
   "source": []
  }
 ],
 "metadata": {
  "kernelspec": {
   "display_name": "Python 3 (ipykernel)",
   "language": "python",
   "name": "python3"
  },
  "language_info": {
   "codemirror_mode": {
    "name": "ipython",
    "version": 3
   },
   "file_extension": ".py",
   "mimetype": "text/x-python",
   "name": "python",
   "nbconvert_exporter": "python",
   "pygments_lexer": "ipython3",
   "version": "3.9.13"
  }
 },
 "nbformat": 4,
 "nbformat_minor": 5
}
